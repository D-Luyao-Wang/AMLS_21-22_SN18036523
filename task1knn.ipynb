{
 "cells": [
  {
   "cell_type": "code",
   "execution_count": 1,
   "metadata": {},
   "outputs": [],
   "source": [
    "import os\n",
    "\n",
    "# import libraries\n",
    "import warnings\n",
    "import matplotlib.pyplot as plt\n",
    "from sklearn.utils import shuffle\n",
    "import torch\n",
    "import torch.nn as nn\n",
    "import numpy as np\n",
    "from PIL import Image"
   ]
  },
  {
   "cell_type": "code",
   "execution_count": 2,
   "metadata": {},
   "outputs": [],
   "source": [
    "from torch.utils.data import DataLoader\n",
    "import torchvision\n",
    "import torchvision.datasets as datasets\n",
    "import torchvision.transforms as transforms\n",
    "import pandas as pd\n",
    "\n",
    "from skimage import io, transform\n",
    "%matplotlib inline"
   ]
  },
  {
   "cell_type": "code",
   "execution_count": 3,
   "metadata": {},
   "outputs": [],
   "source": [
    "training_path='/Users/luyaowang/Desktop/task1data/' \n",
    "test_path='/Users/luyaowang/Desktop/test/'\n",
    "\n",
    "#change size and colour of the images\n",
    "transform = transforms.Compose([transforms.Resize((256,256)),\n",
    "                                transforms.Grayscale(num_output_channels=1)])\n",
    "#load training and test dataset\n",
    "training_dataset = datasets.ImageFolder(training_path, transform)\n",
    "test_dataset = datasets.ImageFolder(test_path, transform)\n",
    "\n",
    "image_dataset_data = []\n",
    "image_dataset_label = []\n",
    "for image,label in training_dataset:#transfer image from pil to image and label\n",
    "    \n",
    "    \n",
    "    image_np = np.array(image, dtype=np.float32)#change to numpy array\n",
    "    image_np = image_np.flatten().tolist()#flatten 2d to 1d and list\n",
    "\n",
    "    image_dataset_data.append(image_np)#add each image list to a big list\n",
    "    image_dataset_label.append(label)\n",
    "\n",
    "\n",
    "\n",
    "#For test dataset\n",
    "image_dataset_test_data=[]\n",
    "image_dataset_test_label=[]\n",
    "\n",
    "for image,label in test_dataset:\n",
    "    \n",
    "    \n",
    "    image_np = np.array(image, dtype=np.float32)\n",
    "    image_np = image_np.flatten().tolist()\n",
    "\n",
    "    image_dataset_test_data.append(image_np)\n",
    "    image_dataset_test_label.append(label)\n",
    "\n",
    "\n",
    "\n",
    "\n"
   ]
  },
  {
   "cell_type": "code",
   "execution_count": 4,
   "metadata": {},
   "outputs": [],
   "source": [
    "from sklearn.model_selection import GridSearchCV, train_test_split\n",
    "from sklearn import svm, metrics, datasets, linear_model, naive_bayes, neighbors"
   ]
  },
  {
   "cell_type": "code",
   "execution_count": 6,
   "metadata": {},
   "outputs": [],
   "source": [
    "#change from list to numpy array\n",
    "image_dataset_data = np.array(image_dataset_data)\n",
    "image_dataset_label = np.array(image_dataset_label)\n",
    "\n",
    "image_dataset_test_data = np.array(image_dataset_test_data)\n",
    "image_dataset_test_label = np.array(image_dataset_test_label)\n",
    "\n",
    "\n",
    "X_train, X_test, y_train, y_test = train_test_split(image_dataset_data, image_dataset_label, test_size=0.2,random_state=33)\n"
   ]
  },
  {
   "cell_type": "code",
   "execution_count": 13,
   "metadata": {},
   "outputs": [
    {
     "name": "stderr",
     "output_type": "stream",
     "text": [
      "/anaconda3/lib/python3.7/site-packages/sklearn/model_selection/_split.py:2053: FutureWarning: You should specify a value for 'cv' instead of relying on the default value. The default value will change from 3 to 5 in version 0.22.\n",
      "  warnings.warn(CV_WARNING, FutureWarning)\n"
     ]
    },
    {
     "name": "stdout",
     "output_type": "stream",
     "text": [
      "Classification report \n",
      "GridSearchCV(cv='warn', error_score='raise-deprecating',\n",
      "       estimator=KNeighborsClassifier(algorithm='auto', leaf_size=30, metric='minkowski',\n",
      "           metric_params=None, n_jobs=None, n_neighbors=2, p=2,\n",
      "           weights='uniform'),\n",
      "       fit_params=None, iid='warn', n_jobs=None, param_grid={},\n",
      "       pre_dispatch='2*n_jobs', refit=True, return_train_score=True,\n",
      "       scoring=None, verbose=0):\n",
      "              precision    recall  f1-score   support\n",
      "\n",
      "           0       0.70      0.85      0.77        97\n",
      "           1       0.97      0.93      0.95       503\n",
      "\n",
      "   micro avg       0.92      0.92      0.92       600\n",
      "   macro avg       0.83      0.89      0.86       600\n",
      "weighted avg       0.93      0.92      0.92       600\n",
      "\n",
      "\n"
     ]
    }
   ],
   "source": [
    "model = neighbors.KNeighborsClassifier(2)\n",
    "param_grid = {}\n",
    "\n",
    "#input data\n",
    "gscv = GridSearchCV(model, param_grid, return_train_score=True)\n",
    "gscv.fit(X_train, y_train)\n",
    "y_predict = gscv.predict(X_test)\n",
    "print(\"Classification report \\n{}:\\n{}\\n\".format(\n",
    "        gscv, metrics.classification_report(y_test, y_predict)))\n"
   ]
  },
  {
   "cell_type": "code",
   "execution_count": 14,
   "metadata": {},
   "outputs": [
    {
     "name": "stdout",
     "output_type": "stream",
     "text": [
      "Classification report \n",
      "GridSearchCV(cv='warn', error_score='raise-deprecating',\n",
      "       estimator=KNeighborsClassifier(algorithm='auto', leaf_size=30, metric='minkowski',\n",
      "           metric_params=None, n_jobs=None, n_neighbors=2, p=2,\n",
      "           weights='uniform'),\n",
      "       fit_params=None, iid='warn', n_jobs=None, param_grid={},\n",
      "       pre_dispatch='2*n_jobs', refit=True, return_train_score=True,\n",
      "       scoring=None, verbose=0):\n",
      "              precision    recall  f1-score   support\n",
      "\n",
      "           0       0.74      0.92      0.82        37\n",
      "           1       0.98      0.93      0.95       163\n",
      "\n",
      "   micro avg       0.93      0.93      0.93       200\n",
      "   macro avg       0.86      0.92      0.89       200\n",
      "weighted avg       0.94      0.93      0.93       200\n",
      "\n",
      "\n"
     ]
    }
   ],
   "source": [
    "#Output test\n",
    "\n",
    "y_predict = gscv.predict(image_dataset_test_data)\n",
    "print(\"Classification report \\n{}:\\n{}\\n\".format(\n",
    "        gscv, metrics.classification_report(image_dataset_test_label, y_predict)))"
   ]
  },
  {
   "cell_type": "code",
   "execution_count": null,
   "metadata": {},
   "outputs": [],
   "source": []
  }
 ],
 "metadata": {
  "kernelspec": {
   "display_name": "Python 3",
   "language": "python",
   "name": "python3"
  },
  "language_info": {
   "codemirror_mode": {
    "name": "ipython",
    "version": 3
   },
   "file_extension": ".py",
   "mimetype": "text/x-python",
   "name": "python",
   "nbconvert_exporter": "python",
   "pygments_lexer": "ipython3",
   "version": "3.7.3"
  }
 },
 "nbformat": 4,
 "nbformat_minor": 2
}
